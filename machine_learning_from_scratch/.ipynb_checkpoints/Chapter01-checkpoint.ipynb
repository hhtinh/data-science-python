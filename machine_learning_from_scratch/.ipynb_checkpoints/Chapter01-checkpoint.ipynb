{
 "cells": [
  {
   "cell_type": "code",
   "execution_count": 1,
   "metadata": {},
   "outputs": [],
   "source": [
    "from csv import reader"
   ]
  },
  {
   "cell_type": "code",
   "execution_count": 2,
   "metadata": {},
   "outputs": [],
   "source": [
    "def load_csv(filename):\n",
    "\tdataset = list()\n",
    "\twith open(filename, 'r') as file:\n",
    "\t\tcsv_reader = reader(file)\n",
    "\t\tfor row in csv_reader:\n",
    "\t\t\tif not row:\n",
    "\t\t\t\tcontinue\n",
    "\t\t\tdataset.append(row)\n",
    "\treturn dataset"
   ]
  },
  {
   "cell_type": "code",
   "execution_count": 3,
   "metadata": {},
   "outputs": [],
   "source": [
    "import os\n",
    "filename = os.path.join('data', 'pima-indians-diabetes.csv')\n",
    "dataset = load_csv(filename)"
   ]
  },
  {
   "cell_type": "code",
   "execution_count": 4,
   "metadata": {},
   "outputs": [
    {
     "name": "stdout",
     "output_type": "stream",
     "text": [
      "<class 'list'>\n",
      "768\n",
      "9\n"
     ]
    }
   ],
   "source": [
    "print(type(dataset))\n",
    "print(len(dataset))\n",
    "print(len(dataset[0]))"
   ]
  },
  {
   "cell_type": "code",
   "execution_count": 5,
   "metadata": {},
   "outputs": [
    {
     "name": "stdout",
     "output_type": "stream",
     "text": [
      "Loaded data file data\\pima-indians-diabetes.csv with 768 rows and 9 columns\n"
     ]
    }
   ],
   "source": [
    "print(f'Loaded data file {filename} with {len(dataset)} rows and {len(dataset[0])} columns')"
   ]
  },
  {
   "cell_type": "code",
   "execution_count": 6,
   "metadata": {},
   "outputs": [],
   "source": [
    "# Convert string column to float\n",
    "def str_column_to_float(dataset, column):\n",
    "\tfor row in dataset:\n",
    "\t\trow[column] = float(row[column].strip())"
   ]
  },
  {
   "cell_type": "code",
   "execution_count": 7,
   "metadata": {},
   "outputs": [],
   "source": [
    "# Convert string column to integer\n",
    "def str_column_to_int(dataset, column):\n",
    "\tclass_values = [row[column] for row in dataset]\n",
    "\tunique = set(class_values)\n",
    "\tlookup = dict()\n",
    "\tfor i, value in enumerate(unique):\n",
    "\t\tlookup[value] = i\n",
    "\tfor row in dataset:\n",
    "\t\trow[column] = lookup[row[column]]\n",
    "\treturn lookup"
   ]
  },
  {
   "cell_type": "code",
   "execution_count": 8,
   "metadata": {},
   "outputs": [],
   "source": [
    "# Load iris dataset\n",
    "filename = os.path.join('data', 'iris.csv')\n",
    "dataset = load_csv(filename)"
   ]
  },
  {
   "cell_type": "code",
   "execution_count": 9,
   "metadata": {},
   "outputs": [
    {
     "name": "stdout",
     "output_type": "stream",
     "text": [
      "Loaded data file data\\iris.csv with 150 rows and 5 columns\n",
      "['5.1', '3.5', '1.4', '0.2', 'Iris-setosa']\n"
     ]
    }
   ],
   "source": [
    "print(f'Loaded data file {filename} with {len(dataset)} rows and {len(dataset[0])} columns')\n",
    "print(dataset[0])"
   ]
  },
  {
   "cell_type": "code",
   "execution_count": 10,
   "metadata": {},
   "outputs": [],
   "source": [
    "# convert string columns to float\n",
    "for i in range(4):\n",
    "\tstr_column_to_float(dataset, i)"
   ]
  },
  {
   "cell_type": "code",
   "execution_count": 11,
   "metadata": {},
   "outputs": [
    {
     "name": "stdout",
     "output_type": "stream",
     "text": [
      "[5.1, 3.5, 1.4, 0.2, 'Iris-setosa']\n",
      "[5.1, 2.5, 3.0, 1.1, 'Iris-versicolor']\n",
      "[5.0, 3.2, 1.2, 0.2, 'Iris-setosa']\n",
      "[5.7, 2.9, 4.2, 1.3, 'Iris-versicolor']\n",
      "[5.9, 3.0, 5.1, 1.8, 'Iris-virginica']\n"
     ]
    }
   ],
   "source": [
    "import random\n",
    "print(dataset[0])\n",
    "print(dataset[random.randint(1, 148)])\n",
    "print(dataset[random.randint(1, 148)])\n",
    "print(dataset[random.randint(1, 148)])\n",
    "print(dataset[149])"
   ]
  },
  {
   "cell_type": "code",
   "execution_count": 12,
   "metadata": {},
   "outputs": [],
   "source": [
    "lookup = str_column_to_int(dataset, 4)"
   ]
  },
  {
   "cell_type": "code",
   "execution_count": 13,
   "metadata": {},
   "outputs": [
    {
     "name": "stdout",
     "output_type": "stream",
     "text": [
      "{'Iris-versicolor': 0, 'Iris-virginica': 1, 'Iris-setosa': 2}\n"
     ]
    }
   ],
   "source": [
    "print(lookup)"
   ]
  },
  {
   "cell_type": "code",
   "execution_count": 14,
   "metadata": {},
   "outputs": [
    {
     "name": "stdout",
     "output_type": "stream",
     "text": [
      "[5.1, 3.5, 1.4, 0.2, 2]\n",
      "[5.5, 3.5, 1.3, 0.2, 2]\n",
      "[6.4, 3.2, 5.3, 2.3, 1]\n",
      "[5.8, 2.7, 3.9, 1.2, 0]\n",
      "[5.9, 3.0, 5.1, 1.8, 1]\n"
     ]
    }
   ],
   "source": [
    "print(dataset[0])\n",
    "print(dataset[random.randint(1, 148)])\n",
    "print(dataset[random.randint(1, 148)])\n",
    "print(dataset[random.randint(1, 148)])\n",
    "print(dataset[149])"
   ]
  },
  {
   "cell_type": "code",
   "execution_count": null,
   "metadata": {},
   "outputs": [],
   "source": []
  }
 ],
 "metadata": {
  "kernelspec": {
   "display_name": "Python 3",
   "language": "python",
   "name": "python3"
  },
  "language_info": {
   "codemirror_mode": {
    "name": "ipython",
    "version": 3
   },
   "file_extension": ".py",
   "mimetype": "text/x-python",
   "name": "python",
   "nbconvert_exporter": "python",
   "pygments_lexer": "ipython3",
   "version": "3.6.8"
  }
 },
 "nbformat": 4,
 "nbformat_minor": 2
}
