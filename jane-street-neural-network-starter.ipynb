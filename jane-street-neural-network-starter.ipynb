{
 "cells": [
  {
   "cell_type": "markdown",
   "metadata": {
    "papermill": {
     "duration": 0.012479,
     "end_time": "2020-12-08T01:49:46.787778",
     "exception": false,
     "start_time": "2020-12-08T01:49:46.775299",
     "status": "completed"
    },
    "tags": []
   },
   "source": [
    "# Jane Street: Neural Network Starter\n",
    "\n",
    "I try implementing a simple Tensorflow Keras neural network here. Train in Version 17."
   ]
  },
  {
   "cell_type": "code",
   "execution_count": 1,
   "metadata": {
    "_kg_hide-output": true,
    "execution": {
     "iopub.execute_input": "2020-12-08T01:49:46.824649Z",
     "iopub.status.busy": "2020-12-08T01:49:46.823757Z",
     "iopub.status.idle": "2020-12-08T01:49:56.821124Z",
     "shell.execute_reply": "2020-12-08T01:49:56.820241Z"
    },
    "papermill": {
     "duration": 10.019933,
     "end_time": "2020-12-08T01:49:56.821267",
     "exception": false,
     "start_time": "2020-12-08T01:49:46.801334",
     "status": "completed"
    },
    "tags": []
   },
   "outputs": [
    {
     "data": {
      "text/html": [
       "<style type='text/css'>\n",
       ".datatable table.frame { margin-bottom: 0; }\n",
       ".datatable table.frame thead { border-bottom: none; }\n",
       ".datatable table.frame tr.coltypes td {  color: #FFFFFF;  line-height: 6px;  padding: 0 0.5em;}\n",
       ".datatable .bool    { background: #DDDD99; }\n",
       ".datatable .object  { background: #565656; }\n",
       ".datatable .int     { background: #5D9E5D; }\n",
       ".datatable .float   { background: #4040CC; }\n",
       ".datatable .str     { background: #CC4040; }\n",
       ".datatable .row_index {  background: var(--jp-border-color3);  border-right: 1px solid var(--jp-border-color0);  color: var(--jp-ui-font-color3);  font-size: 9px;}\n",
       ".datatable .frame tr.coltypes .row_index {  background: var(--jp-border-color0);}\n",
       ".datatable th:nth-child(2) { padding-left: 12px; }\n",
       ".datatable .hellipsis {  color: var(--jp-cell-editor-border-color);}\n",
       ".datatable .vellipsis {  background: var(--jp-layout-color0);  color: var(--jp-cell-editor-border-color);}\n",
       ".datatable .na {  color: var(--jp-cell-editor-border-color);  font-size: 80%;}\n",
       ".datatable .footer { font-size: 9px; }\n",
       ".datatable .frame_dimensions {  background: var(--jp-border-color3);  border-top: 1px solid var(--jp-border-color0);  color: var(--jp-ui-font-color3);  display: inline-block;  opacity: 0.6;  padding: 1px 10px 1px 5px;}\n",
       ".datatable .frame thead tr.colnames {  background-image: url('data:image/png;base64,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');  background-repeat: repeat-x;  background-size: 14px;  height: 28px;}\n",
       "</style>\n"
      ],
      "text/plain": [
       "<IPython.core.display.HTML object>"
      ]
     },
     "metadata": {},
     "output_type": "display_data"
    }
   ],
   "source": [
    "import warnings\n",
    "warnings.filterwarnings('ignore')\n",
    "\n",
    "import os, gc\n",
    "# import cudf\n",
    "import pandas as pd\n",
    "import numpy as np\n",
    "# import cupy as cp\n",
    "import janestreet\n",
    "import xgboost as xgb\n",
    "from hyperopt import hp, fmin, tpe, Trials\n",
    "from hyperopt.pyll.base import scope\n",
    "from sklearn.metrics import roc_auc_score, roc_curve\n",
    "from sklearn.model_selection import GroupKFold\n",
    "import matplotlib.pyplot as plt\n",
    "from tqdm.notebook import tqdm\n",
    "from joblib import dump, load\n",
    "\n",
    "import tensorflow as tf\n",
    "tf.random.set_seed(42)\n",
    "import tensorflow.keras.backend as K\n",
    "import tensorflow.keras.layers as layers\n",
    "from tensorflow.keras.callbacks import Callback, ReduceLROnPlateau, ModelCheckpoint, EarlyStopping"
   ]
  },
  {
   "cell_type": "markdown",
   "metadata": {
    "papermill": {
     "duration": 0.01154,
     "end_time": "2020-12-08T01:49:56.845483",
     "exception": false,
     "start_time": "2020-12-08T01:49:56.833943",
     "status": "completed"
    },
    "tags": []
   },
   "source": [
    "# Preprocessing"
   ]
  },
  {
   "cell_type": "code",
   "execution_count": 2,
   "metadata": {
    "_kg_hide-output": false,
    "execution": {
     "iopub.execute_input": "2020-12-08T01:49:56.881855Z",
     "iopub.status.busy": "2020-12-08T01:49:56.880969Z",
     "iopub.status.idle": "2020-12-08T01:49:56.915091Z",
     "shell.execute_reply": "2020-12-08T01:49:56.915675Z"
    },
    "papermill": {
     "duration": 0.058387,
     "end_time": "2020-12-08T01:49:56.915913",
     "exception": false,
     "start_time": "2020-12-08T01:49:56.857526",
     "status": "completed"
    },
    "tags": []
   },
   "outputs": [],
   "source": [
    "# print('Loading...')\n",
    "# train = cudf.read_csv('/kaggle/input/jane-street-market-prediction/train.csv')\n",
    "train = pd.read_csv('/kaggle/input/jane-street-market-prediction/train.csv', nrows = 3)\n",
    "features = [c for c in train.columns if 'feature' in c]\n",
    "\n",
    "# print('Filling...')\n",
    "# f_mean = train[features[1:]].mean()\n",
    "# train = train.query('weight > 0').reset_index(drop = True)\n",
    "# train[features[1:]] = train[features[1:]].fillna(f_mean)\n",
    "# train['action'] = (train['resp'] > 0).astype('int')\n",
    "\n",
    "# print('Converting...')\n",
    "# train = train.to_pandas()\n",
    "# f_mean = f_mean.values.get()\n",
    "# np.save('f_mean.npy', f_mean)\n",
    "\n",
    "# print('Finish.')"
   ]
  },
  {
   "cell_type": "markdown",
   "metadata": {
    "papermill": {
     "duration": 0.011975,
     "end_time": "2020-12-08T01:49:56.941017",
     "exception": false,
     "start_time": "2020-12-08T01:49:56.929042",
     "status": "completed"
    },
    "tags": []
   },
   "source": [
    "# Training"
   ]
  },
  {
   "cell_type": "code",
   "execution_count": 3,
   "metadata": {
    "execution": {
     "iopub.execute_input": "2020-12-08T01:49:56.983283Z",
     "iopub.status.busy": "2020-12-08T01:49:56.982473Z",
     "iopub.status.idle": "2020-12-08T01:49:56.986988Z",
     "shell.execute_reply": "2020-12-08T01:49:56.986328Z"
    },
    "papermill": {
     "duration": 0.033374,
     "end_time": "2020-12-08T01:49:56.987134",
     "exception": false,
     "start_time": "2020-12-08T01:49:56.953760",
     "status": "completed"
    },
    "tags": []
   },
   "outputs": [],
   "source": [
    "def create_mlp(num_columns, num_labels, hidden_units, dropout_rates, label_smoothing, learning_rate):\n",
    "    \n",
    "    inp = tf.keras.layers.Input(shape = (num_columns, ))\n",
    "    x = tf.keras.layers.BatchNormalization()(inp)\n",
    "    x = tf.keras.layers.Dropout(dropout_rates[0])(x)\n",
    "    for i in range(len(hidden_units)): \n",
    "        x = tf.keras.layers.Dense(hidden_units[i])(x)\n",
    "        x = tf.keras.layers.BatchNormalization()(x)\n",
    "        x = tf.keras.layers.Activation(tf.keras.activations.swish)(x)\n",
    "        x = tf.keras.layers.Dropout(dropout_rates[i+1])(x)    \n",
    "        \n",
    "    x = tf.keras.layers.Dense(num_labels)(x)\n",
    "    out = tf.keras.layers.Activation('sigmoid')(x)\n",
    "    \n",
    "    model = tf.keras.models.Model(inputs = inp, outputs = out)\n",
    "    model.compile(optimizer = tf.keras.optimizers.Adam(learning_rate = learning_rate),\n",
    "                  loss = tf.keras.losses.BinaryCrossentropy(label_smoothing = label_smoothing), \n",
    "                  metrics = tf.keras.metrics.AUC(name = 'AUC'), \n",
    "                 )\n",
    "    \n",
    "    return model"
   ]
  },
  {
   "cell_type": "code",
   "execution_count": 4,
   "metadata": {
    "execution": {
     "iopub.execute_input": "2020-12-08T01:49:57.024491Z",
     "iopub.status.busy": "2020-12-08T01:49:57.023359Z",
     "iopub.status.idle": "2020-12-08T01:49:57.028803Z",
     "shell.execute_reply": "2020-12-08T01:49:57.027808Z"
    },
    "papermill": {
     "duration": 0.028799,
     "end_time": "2020-12-08T01:49:57.028960",
     "exception": false,
     "start_time": "2020-12-08T01:49:57.000161",
     "status": "completed"
    },
    "tags": []
   },
   "outputs": [],
   "source": [
    "batch_size = 4096\n",
    "hidden_units = [384, 896, 896, 394]\n",
    "dropout_rates = [0.10143786981358652, 0.19720339053599725, 0.2703017847244654, 0.23148340929571917, 0.2357768967777311]\n",
    "label_smoothing = 1e-2\n",
    "learning_rate = 1e-3\n",
    "\n",
    "# oof = np.zeros(len(train['action']))\n",
    "# gkf = GroupKFold(n_splits = 5)\n",
    "# for fold, (tr, te) in enumerate(gkf.split(train['action'].values, train['action'].values, train['date'].values)):\n",
    "    \n",
    "#     X_tr, X_val = train.loc[tr, features].values, train.loc[te, features].values\n",
    "#     y_tr, y_val = train.loc[tr, 'action'].values, train.loc[te, 'action'].values\n",
    "    \n",
    "#     ckp_path = f'JSModel_{fold}.hdf5'\n",
    "#     model = create_mlp(X_tr.shape[1], 1, hidden_units, dropout_rates, label_smoothing, learning_rate)\n",
    "#     rlr = ReduceLROnPlateau(monitor = 'val_AUC', factor = 0.1, patience = 3, verbose = 0, \n",
    "#                             min_delta = 1e-4, mode = 'max')\n",
    "#     ckp = ModelCheckpoint(ckp_path, monitor = 'val_AUC', verbose = 0, \n",
    "#                           save_best_only = True, save_weights_only = True, mode = 'max')\n",
    "#     es = EarlyStopping(monitor = 'val_AUC', min_delta = 1e-4, patience = 7, mode = 'max', \n",
    "#                        baseline = None, restore_best_weights = True, verbose = 0)\n",
    "#     model.fit(X_tr, y_tr, validation_data = (X_val, y_val), epochs = 1000, \n",
    "#               batch_size = batch_size, callbacks = [rlr, ckp, es], verbose = 0)\n",
    "                \n",
    "#     oof[te] += model.predict(X_val, batch_size = batch_size * 4).ravel()\n",
    "#     score = roc_auc_score(y_val, oof[te])\n",
    "#     print(f'Fold {fold} ROC AUC:\\t', score)\n",
    "    \n",
    "#     # Finetune 3 epochs on validation set with small learning rate\n",
    "#     model = create_mlp(X_tr.shape[1], 1, hidden_units, dropout_rates, label_smoothing, learning_rate / 100)\n",
    "#     model.load_weights(ckp_path)\n",
    "#     model.fit(X_val, y_val, epochs = 3, batch_size = batch_size, verbose = 0)\n",
    "#     model.save_weights(ckp_path)\n",
    "    \n",
    "#     K.clear_session()\n",
    "#     del model\n",
    "#     rubbish = gc.collect()"
   ]
  },
  {
   "cell_type": "code",
   "execution_count": 5,
   "metadata": {
    "execution": {
     "iopub.execute_input": "2020-12-08T01:49:57.064611Z",
     "iopub.status.busy": "2020-12-08T01:49:57.063327Z",
     "iopub.status.idle": "2020-12-08T01:49:57.067646Z",
     "shell.execute_reply": "2020-12-08T01:49:57.066938Z"
    },
    "papermill": {
     "duration": 0.022921,
     "end_time": "2020-12-08T01:49:57.067816",
     "exception": false,
     "start_time": "2020-12-08T01:49:57.044895",
     "status": "completed"
    },
    "tags": []
   },
   "outputs": [],
   "source": [
    "# score_oof = roc_auc_score(train['action'].values, oof)\n",
    "# print(score_oof)"
   ]
  },
  {
   "cell_type": "markdown",
   "metadata": {
    "papermill": {
     "duration": 0.013114,
     "end_time": "2020-12-08T01:49:57.094102",
     "exception": false,
     "start_time": "2020-12-08T01:49:57.080988",
     "status": "completed"
    },
    "tags": []
   },
   "source": [
    "# Load Models"
   ]
  },
  {
   "cell_type": "code",
   "execution_count": 6,
   "metadata": {
    "execution": {
     "iopub.execute_input": "2020-12-08T01:49:57.127895Z",
     "iopub.status.busy": "2020-12-08T01:49:57.127116Z",
     "iopub.status.idle": "2020-12-08T01:49:58.454597Z",
     "shell.execute_reply": "2020-12-08T01:49:58.453732Z"
    },
    "papermill": {
     "duration": 1.347803,
     "end_time": "2020-12-08T01:49:58.454765",
     "exception": false,
     "start_time": "2020-12-08T01:49:57.106962",
     "status": "completed"
    },
    "tags": []
   },
   "outputs": [],
   "source": [
    "num_models = 2\n",
    "\n",
    "models = []\n",
    "for i in range(num_models):\n",
    "    clf = create_mlp(len(features), 1, hidden_units, dropout_rates, label_smoothing, learning_rate)\n",
    "    clf.load_weights(f'../input/js-nn-models/JSModel_{i}.hdf5')\n",
    "#     clf.load_weights(f'./JSModel_{i}.hdf5')\n",
    "    models.append(clf)"
   ]
  },
  {
   "cell_type": "code",
   "execution_count": 7,
   "metadata": {
    "execution": {
     "iopub.execute_input": "2020-12-08T01:49:58.490276Z",
     "iopub.status.busy": "2020-12-08T01:49:58.489048Z",
     "iopub.status.idle": "2020-12-08T01:49:58.498275Z",
     "shell.execute_reply": "2020-12-08T01:49:58.497335Z"
    },
    "papermill": {
     "duration": 0.029896,
     "end_time": "2020-12-08T01:49:58.498446",
     "exception": false,
     "start_time": "2020-12-08T01:49:58.468550",
     "status": "completed"
    },
    "tags": []
   },
   "outputs": [],
   "source": [
    "f_mean = np.load('../input/js-nn-models/f_mean.npy')\n",
    "# f_mean = np.load('./f_mean.npy')"
   ]
  },
  {
   "cell_type": "markdown",
   "metadata": {
    "papermill": {
     "duration": 0.014364,
     "end_time": "2020-12-08T01:49:58.527507",
     "exception": false,
     "start_time": "2020-12-08T01:49:58.513143",
     "status": "completed"
    },
    "tags": []
   },
   "source": [
    "# Submitting\n",
    "\n",
    "Just use two models to reduce running time."
   ]
  },
  {
   "cell_type": "code",
   "execution_count": 8,
   "metadata": {
    "execution": {
     "iopub.execute_input": "2020-12-08T01:49:58.560642Z",
     "iopub.status.busy": "2020-12-08T01:49:58.559861Z",
     "iopub.status.idle": "2020-12-08T01:49:58.566010Z",
     "shell.execute_reply": "2020-12-08T01:49:58.564341Z"
    },
    "papermill": {
     "duration": 0.025317,
     "end_time": "2020-12-08T01:49:58.566208",
     "exception": false,
     "start_time": "2020-12-08T01:49:58.540891",
     "status": "completed"
    },
    "tags": []
   },
   "outputs": [],
   "source": [
    "env = janestreet.make_env()\n",
    "env_iter = env.iter_test()"
   ]
  },
  {
   "cell_type": "code",
   "execution_count": 9,
   "metadata": {
    "_kg_hide-output": false,
    "execution": {
     "iopub.execute_input": "2020-12-08T01:49:58.609500Z",
     "iopub.status.busy": "2020-12-08T01:49:58.608318Z",
     "iopub.status.idle": "2020-12-08T01:56:22.890454Z",
     "shell.execute_reply": "2020-12-08T01:56:22.891287Z"
    },
    "papermill": {
     "duration": 384.310186,
     "end_time": "2020-12-08T01:56:22.891491",
     "exception": false,
     "start_time": "2020-12-08T01:49:58.581305",
     "status": "completed"
    },
    "tags": []
   },
   "outputs": [
    {
     "data": {
      "application/vnd.jupyter.widget-view+json": {
       "model_id": "27a86a24651a4b74bfec8ec27e4ed997",
       "version_major": 2,
       "version_minor": 0
      },
      "text/plain": [
       "HBox(children=(FloatProgress(value=1.0, bar_style='info', max=1.0), HTML(value='')))"
      ]
     },
     "metadata": {},
     "output_type": "display_data"
    },
    {
     "name": "stdout",
     "output_type": "stream",
     "text": [
      "\n"
     ]
    }
   ],
   "source": [
    "opt_th = 0.5\n",
    "for (test_df, pred_df) in tqdm(env_iter):\n",
    "    if test_df['weight'].item() > 0:\n",
    "        x_tt = test_df.loc[:, features].values\n",
    "        if np.isnan(x_tt[:, 1:].sum()):\n",
    "            x_tt[:, 1:] = np.nan_to_num(x_tt[:, 1:]) + np.isnan(x_tt[:, 1:]) * f_mean\n",
    "        pred = 0.\n",
    "        for clf in models:\n",
    "            pred += clf(x_tt, training = False).numpy().item() / num_models\n",
    "#         pred = models[0](x_tt, training = False).numpy().item()\n",
    "        pred_df.action = np.where(pred >= opt_th, 1, 0).astype(int)\n",
    "    else:\n",
    "        pred_df.action = 0\n",
    "    env.predict(pred_df)"
   ]
  }
 ],
 "metadata": {
  "kernelspec": {
   "display_name": "Python 3",
   "language": "python",
   "name": "python3"
  },
  "language_info": {
   "codemirror_mode": {
    "name": "ipython",
    "version": 3
   },
   "file_extension": ".py",
   "mimetype": "text/x-python",
   "name": "python",
   "nbconvert_exporter": "python",
   "pygments_lexer": "ipython3",
   "version": "3.7.6"
  },
  "papermill": {
   "duration": 402.215873,
   "end_time": "2020-12-08T01:56:23.016645",
   "environment_variables": {},
   "exception": null,
   "input_path": "__notebook__.ipynb",
   "output_path": "__notebook__.ipynb",
   "parameters": {},
   "start_time": "2020-12-08T01:49:40.800772",
   "version": "2.1.0"
  },
  "widgets": {
   "application/vnd.jupyter.widget-state+json": {
    "state": {
     "0db2489db6e746f6849a6b735ecc207f": {
      "model_module": "@jupyter-widgets/controls",
      "model_module_version": "1.5.0",
      "model_name": "HTMLModel",
      "state": {
       "_dom_classes": [],
       "_model_module": "@jupyter-widgets/controls",
       "_model_module_version": "1.5.0",
       "_model_name": "HTMLModel",
       "_view_count": null,
       "_view_module": "@jupyter-widgets/controls",
       "_view_module_version": "1.5.0",
       "_view_name": "HTMLView",
       "description": "",
       "description_tooltip": null,
       "layout": "IPY_MODEL_df53a745c2404b999fdbae19e94ed5ee",
       "placeholder": "​",
       "style": "IPY_MODEL_f575b194303e4f9a8165c8d16b64aa83",
       "value": " 15219/? [06:24&lt;00:00, 39.60it/s]"
      }
     },
     "27a86a24651a4b74bfec8ec27e4ed997": {
      "model_module": "@jupyter-widgets/controls",
      "model_module_version": "1.5.0",
      "model_name": "HBoxModel",
      "state": {
       "_dom_classes": [],
       "_model_module": "@jupyter-widgets/controls",
       "_model_module_version": "1.5.0",
       "_model_name": "HBoxModel",
       "_view_count": null,
       "_view_module": "@jupyter-widgets/controls",
       "_view_module_version": "1.5.0",
       "_view_name": "HBoxView",
       "box_style": "",
       "children": [
        "IPY_MODEL_dcd0ad46625440ba88f79420dee76885",
        "IPY_MODEL_0db2489db6e746f6849a6b735ecc207f"
       ],
       "layout": "IPY_MODEL_ae10d2f695d146caaf750529ec11d0bb"
      }
     },
     "2cb2eddc722e4f37b9a610c5869a9da4": {
      "model_module": "@jupyter-widgets/controls",
      "model_module_version": "1.5.0",
      "model_name": "ProgressStyleModel",
      "state": {
       "_model_module": "@jupyter-widgets/controls",
       "_model_module_version": "1.5.0",
       "_model_name": "ProgressStyleModel",
       "_view_count": null,
       "_view_module": "@jupyter-widgets/base",
       "_view_module_version": "1.2.0",
       "_view_name": "StyleView",
       "bar_color": null,
       "description_width": "initial"
      }
     },
     "5d839af1d25d4768aea77a5407152c8a": {
      "model_module": "@jupyter-widgets/base",
      "model_module_version": "1.2.0",
      "model_name": "LayoutModel",
      "state": {
       "_model_module": "@jupyter-widgets/base",
       "_model_module_version": "1.2.0",
       "_model_name": "LayoutModel",
       "_view_count": null,
       "_view_module": "@jupyter-widgets/base",
       "_view_module_version": "1.2.0",
       "_view_name": "LayoutView",
       "align_content": null,
       "align_items": null,
       "align_self": null,
       "border": null,
       "bottom": null,
       "display": null,
       "flex": null,
       "flex_flow": null,
       "grid_area": null,
       "grid_auto_columns": null,
       "grid_auto_flow": null,
       "grid_auto_rows": null,
       "grid_column": null,
       "grid_gap": null,
       "grid_row": null,
       "grid_template_areas": null,
       "grid_template_columns": null,
       "grid_template_rows": null,
       "height": null,
       "justify_content": null,
       "justify_items": null,
       "left": null,
       "margin": null,
       "max_height": null,
       "max_width": null,
       "min_height": null,
       "min_width": null,
       "object_fit": null,
       "object_position": null,
       "order": null,
       "overflow": null,
       "overflow_x": null,
       "overflow_y": null,
       "padding": null,
       "right": null,
       "top": null,
       "visibility": null,
       "width": null
      }
     },
     "ae10d2f695d146caaf750529ec11d0bb": {
      "model_module": "@jupyter-widgets/base",
      "model_module_version": "1.2.0",
      "model_name": "LayoutModel",
      "state": {
       "_model_module": "@jupyter-widgets/base",
       "_model_module_version": "1.2.0",
       "_model_name": "LayoutModel",
       "_view_count": null,
       "_view_module": "@jupyter-widgets/base",
       "_view_module_version": "1.2.0",
       "_view_name": "LayoutView",
       "align_content": null,
       "align_items": null,
       "align_self": null,
       "border": null,
       "bottom": null,
       "display": null,
       "flex": null,
       "flex_flow": null,
       "grid_area": null,
       "grid_auto_columns": null,
       "grid_auto_flow": null,
       "grid_auto_rows": null,
       "grid_column": null,
       "grid_gap": null,
       "grid_row": null,
       "grid_template_areas": null,
       "grid_template_columns": null,
       "grid_template_rows": null,
       "height": null,
       "justify_content": null,
       "justify_items": null,
       "left": null,
       "margin": null,
       "max_height": null,
       "max_width": null,
       "min_height": null,
       "min_width": null,
       "object_fit": null,
       "object_position": null,
       "order": null,
       "overflow": null,
       "overflow_x": null,
       "overflow_y": null,
       "padding": null,
       "right": null,
       "top": null,
       "visibility": null,
       "width": null
      }
     },
     "dcd0ad46625440ba88f79420dee76885": {
      "model_module": "@jupyter-widgets/controls",
      "model_module_version": "1.5.0",
      "model_name": "FloatProgressModel",
      "state": {
       "_dom_classes": [],
       "_model_module": "@jupyter-widgets/controls",
       "_model_module_version": "1.5.0",
       "_model_name": "FloatProgressModel",
       "_view_count": null,
       "_view_module": "@jupyter-widgets/controls",
       "_view_module_version": "1.5.0",
       "_view_name": "ProgressView",
       "bar_style": "success",
       "description": "",
       "description_tooltip": null,
       "layout": "IPY_MODEL_5d839af1d25d4768aea77a5407152c8a",
       "max": 1.0,
       "min": 0.0,
       "orientation": "horizontal",
       "style": "IPY_MODEL_2cb2eddc722e4f37b9a610c5869a9da4",
       "value": 1.0
      }
     },
     "df53a745c2404b999fdbae19e94ed5ee": {
      "model_module": "@jupyter-widgets/base",
      "model_module_version": "1.2.0",
      "model_name": "LayoutModel",
      "state": {
       "_model_module": "@jupyter-widgets/base",
       "_model_module_version": "1.2.0",
       "_model_name": "LayoutModel",
       "_view_count": null,
       "_view_module": "@jupyter-widgets/base",
       "_view_module_version": "1.2.0",
       "_view_name": "LayoutView",
       "align_content": null,
       "align_items": null,
       "align_self": null,
       "border": null,
       "bottom": null,
       "display": null,
       "flex": null,
       "flex_flow": null,
       "grid_area": null,
       "grid_auto_columns": null,
       "grid_auto_flow": null,
       "grid_auto_rows": null,
       "grid_column": null,
       "grid_gap": null,
       "grid_row": null,
       "grid_template_areas": null,
       "grid_template_columns": null,
       "grid_template_rows": null,
       "height": null,
       "justify_content": null,
       "justify_items": null,
       "left": null,
       "margin": null,
       "max_height": null,
       "max_width": null,
       "min_height": null,
       "min_width": null,
       "object_fit": null,
       "object_position": null,
       "order": null,
       "overflow": null,
       "overflow_x": null,
       "overflow_y": null,
       "padding": null,
       "right": null,
       "top": null,
       "visibility": null,
       "width": null
      }
     },
     "f575b194303e4f9a8165c8d16b64aa83": {
      "model_module": "@jupyter-widgets/controls",
      "model_module_version": "1.5.0",
      "model_name": "DescriptionStyleModel",
      "state": {
       "_model_module": "@jupyter-widgets/controls",
       "_model_module_version": "1.5.0",
       "_model_name": "DescriptionStyleModel",
       "_view_count": null,
       "_view_module": "@jupyter-widgets/base",
       "_view_module_version": "1.2.0",
       "_view_name": "StyleView",
       "description_width": ""
      }
     }
    },
    "version_major": 2,
    "version_minor": 0
   }
  }
 },
 "nbformat": 4,
 "nbformat_minor": 4
}
